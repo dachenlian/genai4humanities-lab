{
 "cells": [
  {
   "cell_type": "code",
   "execution_count": null,
   "id": "a55aa363",
   "metadata": {},
   "outputs": [
    {
     "data": {
      "text/plain": [
       "True"
      ]
     },
     "execution_count": 2,
     "metadata": {},
     "output_type": "execute_result"
    }
   ],
   "source": [
    "from google import genai\n",
    "\n",
    "from ai_storytime.utils import get_gemini_api_key\n",
    "\n",
    "try:\n",
    "    GEMINI_API_KEY = get_gemini_api_key()\n",
    "    print(\"GEMINI_API_KEY loaded successfully.\")\n",
    "except ValueError as e:\n",
    "    raise RuntimeError(\"GEMINI_API_KEY not found.\") from e\n",
    "\n",
    "client = genai.Client(api_key=GEMINI_API_KEY)"
   ]
  },
  {
   "cell_type": "code",
   "execution_count": 7,
   "id": "f377b601",
   "metadata": {},
   "outputs": [
    {
     "name": "stdout",
     "output_type": "stream",
     "text": [
      "# 指令：比較語音辨識結果與原文\n",
      "\n",
      "請比較以下兩段文字：\n",
      "\n",
      "第一段是使用者朗讀的語音辨識（ASR）結果：\n",
      "「」\n",
      "\n",
      "第二段是正確的原文：\n",
      "「」\n",
      "\n",
      "請仔細比對，並提供回饋：\n",
      "* 如果兩者完全一致，請回覆：「讀得很好，完全正確！」。\n",
      "* 如果語音辨識結果中有任何錯誤（例如：讀錯字、漏字、多字），請明確指出錯誤的地方以及正確的內容。\n",
      "    例如：「在「{錯誤的詞}」這個地方，你讀成了「{辨識出的詞}」，正確的應該是「{正確的詞}」。」或「你漏讀了「{漏掉的詞}」。」或「你多讀了「{多出的詞}」。」。\n",
      "\n",
      "請以清晰、友善的語氣提供回饋。\n",
      "\n"
     ]
    }
   ],
   "source": [
    "import textwrap\n",
    "user_reading = \"\"\n",
    "correct_reading = \"\"\n",
    "user_prompt = f\"\"\"\\\n",
    "    # 指令：比較語音辨識結果與原文\n",
    "\n",
    "    請比較以下兩段文字：\n",
    "\n",
    "    第一段是使用者朗讀的語音辨識（ASR）結果：\n",
    "    「{user_reading}」\n",
    "\n",
    "    第二段是正確的原文：\n",
    "    「{correct_reading}」\n",
    "\n",
    "    請仔細比對，並提供回饋：\n",
    "    * 如果兩者完全一致，請回覆：「讀得很好，完全正確！」。\n",
    "    * 如果語音辨識結果中有任何錯誤（例如：讀錯字、漏字、多字），請明確指出錯誤的地方以及正確的內容。\n",
    "        例如：「在「{{錯誤的詞}}」這個地方，你讀成了「{{辨識出的詞}}」，正確的應該是「{{正確的詞}}」。」或「你漏讀了「{{漏掉的詞}}」。」或「你多讀了「{{多出的詞}}」。」。\n",
    "\n",
    "    請以清晰、友善的語氣提供回饋。\n",
    "\"\"\"\n",
    "user_prompt = textwrap.dedent(user_prompt)\n",
    "print(user_prompt)"
   ]
  },
  {
   "cell_type": "code",
   "execution_count": null,
   "id": "dd31c77b",
   "metadata": {},
   "outputs": [],
   "source": []
  }
 ],
 "metadata": {
  "kernelspec": {
   "display_name": ".venv",
   "language": "python",
   "name": "python3"
  },
  "language_info": {
   "codemirror_mode": {
    "name": "ipython",
    "version": 3
   },
   "file_extension": ".py",
   "mimetype": "text/x-python",
   "name": "python",
   "nbconvert_exporter": "python",
   "pygments_lexer": "ipython3",
   "version": "3.13.1"
  }
 },
 "nbformat": 4,
 "nbformat_minor": 5
}
