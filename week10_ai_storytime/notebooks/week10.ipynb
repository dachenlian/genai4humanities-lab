{
 "cells": [
  {
   "cell_type": "code",
   "execution_count": null,
   "id": "a55aa363",
   "metadata": {},
   "outputs": [
    {
     "data": {
      "text/plain": [
       "True"
      ]
     },
     "execution_count": 2,
     "metadata": {},
     "output_type": "execute_result"
    }
   ],
   "source": [
    "from google import genai\n",
    "\n",
    "from ai_storytime.utils import get_gemini_api_key\n",
    "\n",
    "try:\n",
    "    GEMINI_API_KEY = get_gemini_api_key()\n",
    "    print(\"GEMINI_API_KEY loaded successfully.\")\n",
    "except ValueError as e:\n",
    "    raise RuntimeError(\"GEMINI_API_KEY not found.\") from e\n",
    "\n",
    "client = genai.Client(api_key=GEMINI_API_KEY)"
   ]
  },
  {
   "cell_type": "code",
   "execution_count": null,
   "id": "f377b601",
   "metadata": {},
   "outputs": [],
   "source": []
  }
 ],
 "metadata": {
  "kernelspec": {
   "display_name": ".venv",
   "language": "python",
   "name": "python3"
  },
  "language_info": {
   "codemirror_mode": {
    "name": "ipython",
    "version": 3
   },
   "file_extension": ".py",
   "mimetype": "text/x-python",
   "name": "python",
   "nbconvert_exporter": "python",
   "pygments_lexer": "ipython3",
   "version": "3.13.1"
  }
 },
 "nbformat": 4,
 "nbformat_minor": 5
}
